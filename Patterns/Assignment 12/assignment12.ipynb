{
 "cells": [
  {
   "cell_type": "raw",
   "id": "338f9f9d",
   "metadata": {},
   "source": [
    "____* *\n",
    "____* *\n",
    "__* * * *\n",
    "__* * * *\n",
    "* * * * * *\n",
    "* * * * * *"
   ]
  },
  {
   "cell_type": "code",
   "execution_count": 33,
   "id": "5c0dade2",
   "metadata": {},
   "outputs": [
    {
     "name": "stdout",
     "output_type": "stream",
     "text": [
      "        * * \n",
      "        * * \n",
      "      * * * * \n",
      "      * * * * \n",
      "    * * * * * * \n",
      "    * * * * * * \n",
      "  * * * * * * * * \n",
      "  * * * * * * * * \n",
      "* * * * * * * * * * \n",
      "* * * * * * * * * * \n"
     ]
    }
   ],
   "source": [
    "n=5\n",
    "for i in range(1, n+1):\n",
    "    print(f\"{((n-i)*2)*' '}{(2*i)*'* '}\", f\"{((n-i)*2)*' '}{(2*i)*'* '}\", sep='\\n')"
   ]
  },
  {
   "cell_type": "raw",
   "id": "7d851359",
   "metadata": {},
   "source": [
    "*****\n",
    " * *\n",
    "  *"
   ]
  },
  {
   "cell_type": "code",
   "execution_count": 1,
   "id": "9662ecfb",
   "metadata": {},
   "outputs": [
    {
     "name": "stdout",
     "output_type": "stream",
     "text": [
      "*********\n",
      " *     *\n",
      "  *   *\n",
      "   * *\n",
      "    *\n"
     ]
    }
   ],
   "source": [
    "n=5\n",
    "for i in range(n, 0, -1):\n",
    "    print(f\"{(n-i)*' '}\", end='', sep='')\n",
    "    for j in range(1, 2*i):\n",
    "        if i==1 or i == n or j==1 or j==2*i-1:\n",
    "            print('*', end='')\n",
    "        else:\n",
    "            print(' ', end='')\n",
    "    print()"
   ]
  },
  {
   "cell_type": "raw",
   "id": "bbe22a15",
   "metadata": {},
   "source": [
    "  *\n",
    "  *\n",
    "  *\n",
    "******\n",
    "  *\n",
    "  *\n",
    "  *"
   ]
  },
  {
   "cell_type": "code",
   "execution_count": 2,
   "id": "be4966c1",
   "metadata": {},
   "outputs": [
    {
     "name": "stdout",
     "output_type": "stream",
     "text": [
      "    *\n",
      "    *\n",
      "    *\n",
      "    *\n",
      "    *\n",
      "*********\n",
      "    *\n",
      "    *\n",
      "    *\n",
      "    *\n",
      "    *\n"
     ]
    }
   ],
   "source": [
    "n=5\n",
    "for i in range(1, n+1):\n",
    "    print(f\"{' '*(n-1)}*\")\n",
    "print((n*2-1)*'*')\n",
    "for i in range(1, n+1):\n",
    "    print(f\"{' '*(n-1)}*\")"
   ]
  },
  {
   "cell_type": "raw",
   "id": "023f7f06",
   "metadata": {},
   "source": [
    "*     *\n",
    " *   *\n",
    "  * *\n",
    "   *\n",
    "  * *\n",
    " *   *\n",
    "*     *"
   ]
  },
  {
   "cell_type": "code",
   "execution_count": 3,
   "id": "92b37ce5",
   "metadata": {},
   "outputs": [
    {
     "name": "stdout",
     "output_type": "stream",
     "text": [
      "*       *\n",
      " *     *\n",
      "  *   *\n",
      "   * *\n",
      "    *\n",
      "   * *\n",
      "  *   *\n",
      " *     *\n",
      "*       *\n"
     ]
    }
   ],
   "source": [
    "n=5\n",
    "for i in range(n, 0, -1):\n",
    "    print(f\"{(n-i)*' '}\", end='', sep='')\n",
    "    for j in range(1, 2*i):\n",
    "        if i==1 or j==1 or j==2*i-1:\n",
    "            print('*', end='')\n",
    "        else:\n",
    "            print(' ', end='')\n",
    "    print()\n",
    "for i in range(2, n+1):\n",
    "    print(f\"{(n-i)*' '}\", end='', sep='')\n",
    "    for j in range(1, 2*i):\n",
    "        if i==1 or j==1 or j==2*i-1:\n",
    "            print('*', end='')\n",
    "        else:\n",
    "            print(' ', end='')\n",
    "    print()"
   ]
  },
  {
   "cell_type": "raw",
   "id": "146dbf9b",
   "metadata": {},
   "source": [
    "    *\n",
    "   * *\n",
    "  *   *\n",
    " *     *\n",
    "*       *\n",
    " *     *\n",
    "  *   *\n",
    "   * *\n",
    "    *"
   ]
  },
  {
   "cell_type": "code",
   "execution_count": 1,
   "id": "50ddbe32",
   "metadata": {},
   "outputs": [
    {
     "name": "stdout",
     "output_type": "stream",
     "text": [
      "    *\n",
      "   * *\n",
      "  *   *\n",
      " *     *\n",
      "*       *\n",
      " *     *\n",
      "  *   *\n",
      "   * *\n",
      "    *\n"
     ]
    }
   ],
   "source": [
    "n=5\n",
    "for i in range(1, n+1):\n",
    "    print(f\"{(n-i)*' '}\", end='', sep='')\n",
    "    for j in range(1, 2*i):\n",
    "        if i==1 or j==1 or j==2*i-1:\n",
    "            print('*', end='')\n",
    "        else:\n",
    "            print(' ', end='')\n",
    "    print()\n",
    "for i in range(n-1, 0, -1):\n",
    "    print(f\"{(n-i)*' '}\", end='', sep='')\n",
    "    for j in range(1, 2*i):\n",
    "        if i==1 or j==1 or j==2*i-1:\n",
    "            print('*', end='')\n",
    "        else:\n",
    "            print(' ', end='')\n",
    "    print()"
   ]
  }
 ],
 "metadata": {
  "kernelspec": {
   "display_name": "Python 3 (ipykernel)",
   "language": "python",
   "name": "python3"
  },
  "language_info": {
   "codemirror_mode": {
    "name": "ipython",
    "version": 3
   },
   "file_extension": ".py",
   "mimetype": "text/x-python",
   "name": "python",
   "nbconvert_exporter": "python",
   "pygments_lexer": "ipython3",
   "version": "3.12.2"
  }
 },
 "nbformat": 4,
 "nbformat_minor": 5
}
